{
 "cells": [
  {
   "cell_type": "code",
   "execution_count": 2,
   "metadata": {},
   "outputs": [
    {
     "name": "stdout",
     "output_type": "stream",
     "text": [
      "Calculadora em Python\n",
      "Realizando soma\n",
      "O resultado da soma é:  13.0\n"
     ]
    }
   ],
   "source": [
    "print(\"Calculadora em Python\")\n",
    "op = input(\"O que você deseja fazer?\\n1. Soma \\n\")\n",
    "if(op=='1'):\n",
    "    print(\"Realizando soma\")\n",
    "    n1 = float(input(\"Entre com o primeiro valor: \"))\n",
    "    n2 = float(input(\"Entre com o segundo valor: \"))\n",
    "    print(\"O resultado da soma é: \", n1+n2)"
   ]
  }
 ],
 "metadata": {
  "kernelspec": {
   "display_name": "Python 3.9.7 ('base')",
   "language": "python",
   "name": "python3"
  },
  "language_info": {
   "codemirror_mode": {
    "name": "ipython",
    "version": 3
   },
   "file_extension": ".py",
   "mimetype": "text/x-python",
   "name": "python",
   "nbconvert_exporter": "python",
   "pygments_lexer": "ipython3",
   "version": "3.9.7"
  },
  "orig_nbformat": 4,
  "vscode": {
   "interpreter": {
    "hash": "b7f621542861d04fe777bc4f1638505cac6d6fd0921185415255953dad7f42f4"
   }
  }
 },
 "nbformat": 4,
 "nbformat_minor": 2
}
